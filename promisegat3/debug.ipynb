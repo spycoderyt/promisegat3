{
 "cells": [
  {
   "cell_type": "code",
   "execution_count": 8,
   "metadata": {},
   "outputs": [
    {
     "name": "stdout",
     "output_type": "stream",
     "text": [
      "An error occurred while reading the FASTA file: 'utf-8' codec can't decode byte 0x8b in position 1: invalid start byte\n"
     ]
    }
   ],
   "source": [
    "from Bio import SeqIO\n",
    "\n",
    "def read_fasta_file(file_path):\n",
    "    try:\n",
    "        with open(file_path, \"r\") as file:\n",
    "            for record in SeqIO.parse(file, \"fasta\"):\n",
    "                print(f\"Sequence ID: {record.id}\")\n",
    "                print(f\"Sequence Description: {record.description}\")\n",
    "                print(f\"Sequence: {record.seq}\")\n",
    "                print(\"---\")\n",
    "    except FileNotFoundError:\n",
    "        print(f\"File not found: {file_path}\")\n",
    "    except Exception as e:\n",
    "        print(f\"An error occurred while reading the FASTA file: {str(e)}\")\n",
    "\n",
    "# Example usage\n",
    "fasta_file_path = \"downloaded_proteins/1-acylglycerol-3-phosphate O-acyltransferase ABHD5.fasta\"\n",
    "read_fasta_file(fasta_file_path)"
   ]
  },
  {
   "cell_type": "code",
   "execution_count": 23,
   "metadata": {},
   "outputs": [
    {
     "name": "stdout",
     "output_type": "stream",
     "text": [
      "/Users/gino/promisegat3\n",
      "folder protein_files/PB1-5_H3/PB1-5 has len 0\n",
      "folder protein_files/MKEAP1_MNRF2/MKEAP1 has len 0\n",
      "folder protein_files/MKEAP1_MNRF2/MNRF2 has len 0\n",
      "folder protein_files/TNFR1A_TNFB/TNFB has len 3\n",
      "folder protein_files/TNFR1A_TNFB/TNFR1A has len 4\n",
      "folder protein_files/1-acylglycerol-3-phosphate O-acyltransferase ABHD5_Perilipin-5/Perilipin-5 has len 2\n",
      "folder protein_files/Induced myeloid leukemia cell differentiation protein Mcl-1_Bcl-2-like protein 11/Bcl-2-like protein 11 has len 4\n",
      "folder protein_files/Peroxisome proliferator-activated receptor gamma_Nuclear receptor coactivator 2/Nuclear receptor coactivator 2 has len 3\n",
      "folder protein_files/Annexin A2_S100-A10/S100-A10 has len 4\n",
      "folder protein_files/Peroxisome proliferator-activated receptor gamma_Nuclear receptor coactivator 3/Nuclear receptor coactivator 3 has len 4\n",
      "folder protein_files/ZIPA_FTSZ/ZIPA has len 0\n",
      "folder protein_files/BCL-like_BAX,BAK/BCL-like has len 0\n",
      "folder protein_files/Aryl hydrocarbon receptor nuclear translocator_Endothelial PAS domain-containing protein 1/Endothelial PAS domain-containing protein 1 has len 4\n",
      "folder protein_files/Voltage-gated N-type calcium channel alpha-1B subunit_Amyloid beta A4 precursor protein-binding family A member 1/Voltage-gated N-type calcium channel alpha-1B subunit has len 0\n",
      "folder protein_files/Voltage-gated N-type calcium channel alpha-1B subunit_Amyloid beta A4 precursor protein-binding family A member 1/Amyloid beta A4 precursor protein-binding family A member 1 has len 3\n",
      "folder protein_files/FAK_VEGFR3/VEGFR3 has len 4\n",
      "folder protein_files/Perilipin-1_ABHD5/Perilipin-1 has len 3\n",
      "folder protein_files/MIF_CD74 (Macrophage migration inhibitory factor and HLA-DR antigens-associated invariant chain)/CD74 (Macrophage migration inhibitory factor and HLA-DR antigens-associated invariant chain) has len 0\n",
      "folder protein_files/XDM2_P53/XDM2 has len 0\n",
      "folder protein_files/Guanine nucleotide-binding protein G(i) subunit alpha-1_Regulator of G-protein signaling 12/Guanine nucleotide-binding protein G(i) subunit alpha-1 has len 2\n",
      "folder protein_files/Cyclin-dependent kinases regulatory subunit 1_S-phase kinase-associated protein 2/Cyclin-dependent kinases regulatory subunit 1 has len 1\n",
      "folder protein_files/WDR5_Mixed-lineage leukemia 1 (MLL1)/Mixed-lineage leukemia 1 (MLL1) has len 0\n"
     ]
    }
   ],
   "source": [
    "\n",
    "import os\n",
    "print(os.getcwd())\n",
    "path = \"protein_files\"\n",
    "fail = set()\n",
    "for file in os.listdir(path):\n",
    "    filepath = os.path.join(path,file)\n",
    "    if os.path.isdir(filepath):\n",
    "        for folder in os.listdir(filepath):\n",
    "            folder_path = os.path.join(filepath,folder)\n",
    "            if os.path.isdir(folder_path):\n",
    "                if len(os.listdir(folder_path)) != 5:\n",
    "                   print(f\"folder {folder_path} has len {len(os.listdir(folder_path))}\")\n",
    "                   fail.add(folder)"
   ]
  },
  {
   "cell_type": "code",
   "execution_count": 24,
   "metadata": {},
   "outputs": [
    {
     "data": {
      "text/plain": [
       "{'Amyloid beta A4 precursor protein-binding family A member 1',\n",
       " 'BCL-like',\n",
       " 'Bcl-2-like protein 11',\n",
       " 'CD74 (Macrophage migration inhibitory factor and HLA-DR antigens-associated invariant chain)',\n",
       " 'Cyclin-dependent kinases regulatory subunit 1',\n",
       " 'Endothelial PAS domain-containing protein 1',\n",
       " 'Guanine nucleotide-binding protein G(i) subunit alpha-1',\n",
       " 'MKEAP1',\n",
       " 'MNRF2',\n",
       " 'Mixed-lineage leukemia 1 (MLL1)',\n",
       " 'Nuclear receptor coactivator 2',\n",
       " 'Nuclear receptor coactivator 3',\n",
       " 'PB1-5',\n",
       " 'Perilipin-1',\n",
       " 'Perilipin-5',\n",
       " 'S100-A10',\n",
       " 'TNFB',\n",
       " 'TNFR1A',\n",
       " 'VEGFR3',\n",
       " 'Voltage-gated N-type calcium channel alpha-1B subunit',\n",
       " 'XDM2',\n",
       " 'ZIPA'}"
      ]
     },
     "execution_count": 24,
     "metadata": {},
     "output_type": "execute_result"
    }
   ],
   "source": [
    "fail"
   ]
  },
  {
   "cell_type": "code",
   "execution_count": null,
   "metadata": {},
   "outputs": [],
   "source": []
  }
 ],
 "metadata": {
  "kernelspec": {
   "display_name": "promisegat3env",
   "language": "python",
   "name": "promisegat3env"
  },
  "language_info": {
   "codemirror_mode": {
    "name": "ipython",
    "version": 3
   },
   "file_extension": ".py",
   "mimetype": "text/x-python",
   "name": "python",
   "nbconvert_exporter": "python",
   "pygments_lexer": "ipython3",
   "version": "3.10.9"
  }
 },
 "nbformat": 4,
 "nbformat_minor": 2
}
