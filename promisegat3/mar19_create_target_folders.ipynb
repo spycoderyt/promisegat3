{
 "cells": [
  {
   "cell_type": "code",
   "execution_count": 1,
   "metadata": {},
   "outputs": [],
   "source": [
    "import os\n",
    "import pandas as pd \n",
    "if not os.path.exists(\"protein_files\"):\n",
    "    os.mkdir(\"protein_files\")\n",
    "with open('target_names.txt','r') as file:\n",
    "    for line in file:\n",
    "        filename = line.strip().replace('/', '_')\n",
    "        if not os.path.exists(f\"protein_files/{filename}\"):\n",
    "            os.mkdir(f\"protein_files/{filename}\")\n"
   ]
  },
  {
   "cell_type": "code",
   "execution_count": 2,
   "metadata": {},
   "outputs": [
    {
     "name": "stdout",
     "output_type": "stream",
     "text": [
      "2687 2240\n"
     ]
    }
   ],
   "source": [
    "cnt = 0\n",
    "notinside = 0\n",
    "using_targets = set()\n",
    "target_dict = {}\n",
    "with open('/Users/gino/promisegat3/target_names.txt','r') as file:\n",
    "    for line in file:\n",
    "        using_targets.add(line.strip())\n",
    "        if line.strip() not in target_dict:\n",
    "            target_dict[line.strip()] = 0\n",
    "\n",
    "def get_targets_from_file(filename):\n",
    "    targets = set()\n",
    "    df = pd.read_csv(filename, header=None)\n",
    "    for index, row in df.iterrows():\n",
    "        if row[0] == \"Common Target Pref Name\":\n",
    "            targets.add(row[1])\n",
    "            if row[1] in using_targets:\n",
    "                global cnt\n",
    "                cnt += 1\n",
    "                target_dict[row[1]] += 1\n",
    "\n",
    "            else:\n",
    "                global notinside\n",
    "                notinside += 1\n",
    "            break\n",
    "    return targets\n",
    "\n",
    "\n",
    "def get_all_targets(folder_path):\n",
    "    files = 0\n",
    "    all_targets = set()\n",
    "    for filename in os.listdir(folder_path):\n",
    "        if filename.endswith(\".csv\"):\n",
    "            targets = get_targets_from_file(os.path.join(folder_path, filename))\n",
    "            all_targets.update(targets)\n",
    "            files += 1\n",
    "    return all_targets\n",
    "\n",
    "target_list = get_all_targets(\"dlip_files\")\n",
    "print(cnt,notinside)"
   ]
  },
  {
   "cell_type": "code",
   "execution_count": 3,
   "metadata": {},
   "outputs": [],
   "source": [
    "\n",
    "targets = []\n",
    "cnts = []\n",
    "for idx in target_dict:\n",
    "    targets.append(idx)\n",
    "    cnts.append(target_dict[idx])"
   ]
  },
  {
   "cell_type": "code",
   "execution_count": 4,
   "metadata": {},
   "outputs": [
    {
     "name": "stdout",
     "output_type": "stream",
     "text": [
      "MENIN/MLL: 352\n",
      "Bromodomain/Histone: 325\n",
      "P53/HDM2: 259\n",
      "XIAP/SMAC: 177\n",
      "FKBP1A/FK506: 150\n",
      "Runt-related transcription factor 1/Core-binding factor subunit beta: 146\n",
      "KEAP1/NRF2: 138\n",
      "GATA4/NKX2-5: 107\n",
      "CD4/gp120: 92\n",
      "HIF-1a/p300: 76\n",
      "BCL-like/BAX,BAK: 75\n",
      "DCN1/UBE2M: 61\n",
      "RAC1/TIAM1: 48\n",
      "INTEGRASE/LEDGF: 47\n",
      "LEDGF/IN: 47\n",
      "CREBBP/H4: 46\n",
      "LFA/ICAM: 41\n",
      "BAZ2B/H4: 39\n",
      "Glucokinase/Glucokinase regulatory protein: 39\n",
      "Importin subunit beta-1/Snurportin-1: 37\n",
      "Cyclin-dependent kinases regulatory subunit 1/S-phase kinase-associated protein 2: 33\n",
      "WDR5/Mixed-lineage leukemia 1 (MLL1): 31\n",
      "MDM4/P53: 30\n",
      "KRAS/SOS1: 23\n",
      "MIF/CD74 (Macrophage migration inhibitory factor and HLA-DR antigens-associated invariant chain): 20\n",
      "Beta-catenin/TCF: 17\n",
      "Voltage-gated N-type calcium channel alpha-1B subunit/Amyloid beta A4 precursor protein-binding family A member 1: 16\n",
      "VHL/HIF1A: 15\n",
      "Annexin A2/S100-A10: 13\n",
      "Neuropilin-1/VEGF-A: 13\n",
      "Perilipin-1/ABHD5: 13\n",
      "S100B/p53: 13\n",
      "1-acylglycerol-3-phosphate O-acyltransferase ABHD5/Perilipin-5: 12\n",
      "Aryl hydrocarbon receptor nuclear translocator/Endothelial PAS domain-containing protein 1: 12\n",
      "BCoR/BCL6: 11\n",
      "PB1-5/H3: 10\n",
      "CD80/CD28: 9\n",
      "Rad51/BRCA2: 9\n",
      "Ras and Rab interactor 1/Tyrosine-protein kinase ABL1: 9\n",
      "WDR5/MLL1: 9\n",
      "IL2/IL2R: 6\n",
      "MKEAP1/MNRF2: 5\n",
      "PA/PB1: 4\n",
      "Peroxisome proliferator-activated receptor gamma/Nuclear receptor coactivator 2: 4\n",
      "RANKL/RANK: 4\n",
      "VEGF/VEGFR: 4\n",
      "CRM1/Rev: 3\n",
      "MYC/MAX: 3\n",
      "Peroxisome proliferator-activated receptor gamma/Nuclear receptor coactivator 1: 3\n",
      "Peroxisome proliferator-activated receptor gamma/Nuclear receptor corepressor 2: 3\n",
      "ZIPA/FTSZ: 3\n",
      "Catenin beta-1/Transcription factor 7: 2\n",
      "E1/E2: 2\n",
      "Guanine nucleotide-binding protein G(i) subunit alpha-1/Regulator of G-protein signaling 12: 2\n",
      "HRAS/SOS1: 2\n",
      "Induced myeloid leukemia cell differentiation protein Mcl-1/Bcl-2-like protein 11: 2\n",
      "Interferon-induced guanylate-binding protein 1/Serine/threonine-protein kinase pim-1: 2\n",
      "NCS-1/Ric8a: 2\n",
      "TNFA/TNFA: 2\n",
      "XDM2/P53: 2\n",
      "ELF3/MED23: 1\n",
      "FAK/VEGFR3: 1\n",
      "NRP/VEGF: 1\n",
      "PCSK9/LDLR: 1\n",
      "Peroxisome proliferator-activated receptor gamma/Nuclear receptor coactivator 3: 1\n",
      "TNFR1A/TNFB: 1\n",
      "p53/MDMX: 1\n"
     ]
    }
   ],
   "source": [
    "sorted_targets = sorted(zip(targets,cnts), key=lambda x: -x[1])\n",
    "\n",
    "for target, count in sorted_targets:\n",
    "    print(f\"{target}: {count}\")\n"
   ]
  },
  {
   "cell_type": "code",
   "execution_count": 5,
   "metadata": {},
   "outputs": [],
   "source": [
    "# this block creates subfolders within the folders for each ppi\n",
    "import os\n",
    "\n",
    "folder_path = \"protein_files\"\n",
    "\n",
    "with open('target_names.txt','r') as file:\n",
    "    for line in file:\n",
    "        folder_name = line.strip().replace('/', '_')\n",
    "        protein_names = folder_name.split('_')\n",
    "        if not os.path.exists(f\"protein_files/{folder_name}/{protein_names[0]}\"):\n",
    "            os.mkdir(f\"protein_files/{folder_name}/{protein_names[0]}\")\n",
    "        if not os.path.exists(f\"protein_files/{folder_name}/{protein_names[1]}\"):\n",
    "            os.mkdir(f\"protein_files/{folder_name}/{protein_names[1]}\")\n"
   ]
  },
  {
   "cell_type": "code",
   "execution_count": null,
   "metadata": {},
   "outputs": [],
   "source": []
  }
 ],
 "metadata": {
  "kernelspec": {
   "display_name": "promisegat3env",
   "language": "python",
   "name": "promisegat3env"
  },
  "language_info": {
   "codemirror_mode": {
    "name": "ipython",
    "version": 3
   },
   "file_extension": ".py",
   "mimetype": "text/x-python",
   "name": "python",
   "nbconvert_exporter": "python",
   "pygments_lexer": "ipython3",
   "version": "3.10.9"
  }
 },
 "nbformat": 4,
 "nbformat_minor": 2
}
